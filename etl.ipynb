{
 "cells": [
  {
   "cell_type": "code",
   "execution_count": 1,
   "metadata": {},
   "outputs": [],
   "source": [
    "import pandas as pd\n",
    "from sqlalchemy import create_engine"
   ]
  },
  {
   "cell_type": "code",
   "execution_count": 2,
   "metadata": {},
   "outputs": [],
   "source": [
    "csv_file = \"data/data.csv\"\n",
    "csv_rolling_stone = \"data/Top 500 Songs.csv\"\n"
   ]
  },
  {
   "cell_type": "code",
   "execution_count": 3,
   "metadata": {},
   "outputs": [
    {
     "output_type": "execute_result",
     "data": {
      "text/plain": "   acousticness                                   artists  danceability  \\\n0         0.995                       ['Carl Woitschach']         0.708   \n1         0.994  ['Robert Schumann', 'Vladimir Horowitz']         0.379   \n2         0.604                   ['Seweryn Goszczyński']         0.749   \n3         0.995                      ['Francisco Canaro']         0.781   \n4         0.990  ['Frédéric Chopin', 'Vladimir Horowitz']         0.210   \n\n   duration_ms  energy  explicit                      id  instrumentalness  \\\n0       158648  0.1950         0  6KbQ3uYMLKb5jDxLF7wYDD             0.563   \n1       282133  0.0135         0  6KuQTIu1KoTTkLXKrwlLPV             0.901   \n2       104300  0.2200         0  6L63VW0PibdM1HDSBoqnoM             0.000   \n3       180760  0.1300         0  6M94FkXd15sOAOQYRnWPN8             0.887   \n4       687733  0.2040         0  6N6tiFZ9vLTSOIxkj8qKrd             0.908   \n\n   key  liveness  loudness  mode  \\\n0   10    0.1510   -12.428     1   \n1    8    0.0763   -28.454     1   \n2    5    0.1190   -19.924     0   \n3    1    0.1110   -14.734     0   \n4   11    0.0980   -16.829     1   \n\n                                            name  popularity release_date  \\\n0                    Singende Bataillone 1. Teil           0         1928   \n1       Fantasiestücke, Op. 111: Più tosto lento           0         1928   \n2                 Chapter 1.18 - Zamek kaniowski           0         1928   \n3  Bebamos Juntos - Instrumental (Remasterizado)           0   1928-09-25   \n4    Polonaise-Fantaisie in A-Flat Major, Op. 61           1         1928   \n\n   speechiness    tempo  valence  year  \n0       0.0506  118.469   0.7790  1928  \n1       0.0462   83.972   0.0767  1928  \n2       0.9290  107.177   0.8800  1928  \n3       0.0926  108.003   0.7200  1928  \n4       0.0424   62.149   0.0693  1928  ",
      "text/html": "<div>\n<style scoped>\n    .dataframe tbody tr th:only-of-type {\n        vertical-align: middle;\n    }\n\n    .dataframe tbody tr th {\n        vertical-align: top;\n    }\n\n    .dataframe thead th {\n        text-align: right;\n    }\n</style>\n<table border=\"1\" class=\"dataframe\">\n  <thead>\n    <tr style=\"text-align: right;\">\n      <th></th>\n      <th>acousticness</th>\n      <th>artists</th>\n      <th>danceability</th>\n      <th>duration_ms</th>\n      <th>energy</th>\n      <th>explicit</th>\n      <th>id</th>\n      <th>instrumentalness</th>\n      <th>key</th>\n      <th>liveness</th>\n      <th>loudness</th>\n      <th>mode</th>\n      <th>name</th>\n      <th>popularity</th>\n      <th>release_date</th>\n      <th>speechiness</th>\n      <th>tempo</th>\n      <th>valence</th>\n      <th>year</th>\n    </tr>\n  </thead>\n  <tbody>\n    <tr>\n      <th>0</th>\n      <td>0.995</td>\n      <td>['Carl Woitschach']</td>\n      <td>0.708</td>\n      <td>158648</td>\n      <td>0.1950</td>\n      <td>0</td>\n      <td>6KbQ3uYMLKb5jDxLF7wYDD</td>\n      <td>0.563</td>\n      <td>10</td>\n      <td>0.1510</td>\n      <td>-12.428</td>\n      <td>1</td>\n      <td>Singende Bataillone 1. Teil</td>\n      <td>0</td>\n      <td>1928</td>\n      <td>0.0506</td>\n      <td>118.469</td>\n      <td>0.7790</td>\n      <td>1928</td>\n    </tr>\n    <tr>\n      <th>1</th>\n      <td>0.994</td>\n      <td>['Robert Schumann', 'Vladimir Horowitz']</td>\n      <td>0.379</td>\n      <td>282133</td>\n      <td>0.0135</td>\n      <td>0</td>\n      <td>6KuQTIu1KoTTkLXKrwlLPV</td>\n      <td>0.901</td>\n      <td>8</td>\n      <td>0.0763</td>\n      <td>-28.454</td>\n      <td>1</td>\n      <td>Fantasiestücke, Op. 111: Più tosto lento</td>\n      <td>0</td>\n      <td>1928</td>\n      <td>0.0462</td>\n      <td>83.972</td>\n      <td>0.0767</td>\n      <td>1928</td>\n    </tr>\n    <tr>\n      <th>2</th>\n      <td>0.604</td>\n      <td>['Seweryn Goszczyński']</td>\n      <td>0.749</td>\n      <td>104300</td>\n      <td>0.2200</td>\n      <td>0</td>\n      <td>6L63VW0PibdM1HDSBoqnoM</td>\n      <td>0.000</td>\n      <td>5</td>\n      <td>0.1190</td>\n      <td>-19.924</td>\n      <td>0</td>\n      <td>Chapter 1.18 - Zamek kaniowski</td>\n      <td>0</td>\n      <td>1928</td>\n      <td>0.9290</td>\n      <td>107.177</td>\n      <td>0.8800</td>\n      <td>1928</td>\n    </tr>\n    <tr>\n      <th>3</th>\n      <td>0.995</td>\n      <td>['Francisco Canaro']</td>\n      <td>0.781</td>\n      <td>180760</td>\n      <td>0.1300</td>\n      <td>0</td>\n      <td>6M94FkXd15sOAOQYRnWPN8</td>\n      <td>0.887</td>\n      <td>1</td>\n      <td>0.1110</td>\n      <td>-14.734</td>\n      <td>0</td>\n      <td>Bebamos Juntos - Instrumental (Remasterizado)</td>\n      <td>0</td>\n      <td>1928-09-25</td>\n      <td>0.0926</td>\n      <td>108.003</td>\n      <td>0.7200</td>\n      <td>1928</td>\n    </tr>\n    <tr>\n      <th>4</th>\n      <td>0.990</td>\n      <td>['Frédéric Chopin', 'Vladimir Horowitz']</td>\n      <td>0.210</td>\n      <td>687733</td>\n      <td>0.2040</td>\n      <td>0</td>\n      <td>6N6tiFZ9vLTSOIxkj8qKrd</td>\n      <td>0.908</td>\n      <td>11</td>\n      <td>0.0980</td>\n      <td>-16.829</td>\n      <td>1</td>\n      <td>Polonaise-Fantaisie in A-Flat Major, Op. 61</td>\n      <td>1</td>\n      <td>1928</td>\n      <td>0.0424</td>\n      <td>62.149</td>\n      <td>0.0693</td>\n      <td>1928</td>\n    </tr>\n  </tbody>\n</table>\n</div>"
     },
     "metadata": {},
     "execution_count": 3
    }
   ],
   "source": [
    "data_df = pd.read_csv(csv_file)\n",
    "data_df .head()"
   ]
  },
  {
   "cell_type": "code",
   "execution_count": 4,
   "metadata": {},
   "outputs": [
    {
     "output_type": "execute_result",
     "data": {
      "text/plain": "              title                                        description  \\\n0       Shop Around  Robinson thought Barrett Strong should record ...   \n1       Buddy Holly  In the early 1990s, Cuomo had an awkward girlf...   \n2          Miss You  The Stones were in Toronto, rehearsing for the...   \n3        The Rising  Springsteen wrote the track about 9/11, taking...   \n4  Running on Empty  The Running on Empty album was Browne's grand ...   \n\n                         appears on                            artist  \\\n0  The Ultimate Collection (Motown)  Smokey Robinson and the Miracles   \n1                   Weezer (Geffen)                            Weezer   \n2               Some Girls (Virgin)                The Rolling Stones   \n3             The Rising (Columbia)                 Bruce Springsteen   \n4        Running on Empty (Elektra)                    Jackson Browne   \n\n                       writers           producer                 released  \\\n0        Berry Gordy, Robinson              Gordy          Dec. '60, Tamla   \n1                 Rivers Cuomo         Ric Ocasek            Aug. '94, DGC   \n2  Mick Jagger, Keith Richards  The Glimmer Twins  May '78, Rolling Stones   \n3                  Springsteen    Brendan O'Brien       July '02, Columbia   \n4                       Browne             Browne         Jan. '77, Asylum   \n\n             streak  \n0   16 weeks; No. 2  \n1  21 weeks; No. 18  \n2   20 weeks; No. 1  \n3  11 weeks; No. 52  \n4  17 weeks; No. 11  ",
      "text/html": "<div>\n<style scoped>\n    .dataframe tbody tr th:only-of-type {\n        vertical-align: middle;\n    }\n\n    .dataframe tbody tr th {\n        vertical-align: top;\n    }\n\n    .dataframe thead th {\n        text-align: right;\n    }\n</style>\n<table border=\"1\" class=\"dataframe\">\n  <thead>\n    <tr style=\"text-align: right;\">\n      <th></th>\n      <th>title</th>\n      <th>description</th>\n      <th>appears on</th>\n      <th>artist</th>\n      <th>writers</th>\n      <th>producer</th>\n      <th>released</th>\n      <th>streak</th>\n    </tr>\n  </thead>\n  <tbody>\n    <tr>\n      <th>0</th>\n      <td>Shop Around</td>\n      <td>Robinson thought Barrett Strong should record ...</td>\n      <td>The Ultimate Collection (Motown)</td>\n      <td>Smokey Robinson and the Miracles</td>\n      <td>Berry Gordy, Robinson</td>\n      <td>Gordy</td>\n      <td>Dec. '60, Tamla</td>\n      <td>16 weeks; No. 2</td>\n    </tr>\n    <tr>\n      <th>1</th>\n      <td>Buddy Holly</td>\n      <td>In the early 1990s, Cuomo had an awkward girlf...</td>\n      <td>Weezer (Geffen)</td>\n      <td>Weezer</td>\n      <td>Rivers Cuomo</td>\n      <td>Ric Ocasek</td>\n      <td>Aug. '94, DGC</td>\n      <td>21 weeks; No. 18</td>\n    </tr>\n    <tr>\n      <th>2</th>\n      <td>Miss You</td>\n      <td>The Stones were in Toronto, rehearsing for the...</td>\n      <td>Some Girls (Virgin)</td>\n      <td>The Rolling Stones</td>\n      <td>Mick Jagger, Keith Richards</td>\n      <td>The Glimmer Twins</td>\n      <td>May '78, Rolling Stones</td>\n      <td>20 weeks; No. 1</td>\n    </tr>\n    <tr>\n      <th>3</th>\n      <td>The Rising</td>\n      <td>Springsteen wrote the track about 9/11, taking...</td>\n      <td>The Rising (Columbia)</td>\n      <td>Bruce Springsteen</td>\n      <td>Springsteen</td>\n      <td>Brendan O'Brien</td>\n      <td>July '02, Columbia</td>\n      <td>11 weeks; No. 52</td>\n    </tr>\n    <tr>\n      <th>4</th>\n      <td>Running on Empty</td>\n      <td>The Running on Empty album was Browne's grand ...</td>\n      <td>Running on Empty (Elektra)</td>\n      <td>Jackson Browne</td>\n      <td>Browne</td>\n      <td>Browne</td>\n      <td>Jan. '77, Asylum</td>\n      <td>17 weeks; No. 11</td>\n    </tr>\n  </tbody>\n</table>\n</div>"
     },
     "metadata": {},
     "execution_count": 4
    }
   ],
   "source": [
    "rolling_stone_df = pd.read_csv(csv_rolling_stone)\n",
    "rolling_stone_df .head()"
   ]
  },
  {
   "cell_type": "code",
   "execution_count": 13,
   "metadata": {},
   "outputs": [
    {
     "output_type": "execute_result",
     "data": {
      "text/plain": "                                                         artists  \\\nid                                                                 \n6KbQ3uYMLKb5jDxLF7wYDD                       ['Carl Woitschach']   \n6KuQTIu1KoTTkLXKrwlLPV  ['Robert Schumann', 'Vladimir Horowitz']   \n6L63VW0PibdM1HDSBoqnoM                   ['Seweryn Goszczyński']   \n6M94FkXd15sOAOQYRnWPN8                      ['Francisco Canaro']   \n6N6tiFZ9vLTSOIxkj8qKrd  ['Frédéric Chopin', 'Vladimir Horowitz']   \n\n                                                                title  \\\nid                                                                      \n6KbQ3uYMLKb5jDxLF7wYDD                    Singende Bataillone 1. Teil   \n6KuQTIu1KoTTkLXKrwlLPV       Fantasiestücke, Op. 111: Più tosto lento   \n6L63VW0PibdM1HDSBoqnoM                 Chapter 1.18 - Zamek kaniowski   \n6M94FkXd15sOAOQYRnWPN8  Bebamos Juntos - Instrumental (Remasterizado)   \n6N6tiFZ9vLTSOIxkj8qKrd    Polonaise-Fantaisie in A-Flat Major, Op. 61   \n\n                        danceability  duration_ms  \nid                                                 \n6KbQ3uYMLKb5jDxLF7wYDD         0.708       158648  \n6KuQTIu1KoTTkLXKrwlLPV         0.379       282133  \n6L63VW0PibdM1HDSBoqnoM         0.749       104300  \n6M94FkXd15sOAOQYRnWPN8         0.781       180760  \n6N6tiFZ9vLTSOIxkj8qKrd         0.210       687733  ",
      "text/html": "<div>\n<style scoped>\n    .dataframe tbody tr th:only-of-type {\n        vertical-align: middle;\n    }\n\n    .dataframe tbody tr th {\n        vertical-align: top;\n    }\n\n    .dataframe thead th {\n        text-align: right;\n    }\n</style>\n<table border=\"1\" class=\"dataframe\">\n  <thead>\n    <tr style=\"text-align: right;\">\n      <th></th>\n      <th>artists</th>\n      <th>title</th>\n      <th>danceability</th>\n      <th>duration_ms</th>\n    </tr>\n    <tr>\n      <th>id</th>\n      <th></th>\n      <th></th>\n      <th></th>\n      <th></th>\n    </tr>\n  </thead>\n  <tbody>\n    <tr>\n      <th>6KbQ3uYMLKb5jDxLF7wYDD</th>\n      <td>['Carl Woitschach']</td>\n      <td>Singende Bataillone 1. Teil</td>\n      <td>0.708</td>\n      <td>158648</td>\n    </tr>\n    <tr>\n      <th>6KuQTIu1KoTTkLXKrwlLPV</th>\n      <td>['Robert Schumann', 'Vladimir Horowitz']</td>\n      <td>Fantasiestücke, Op. 111: Più tosto lento</td>\n      <td>0.379</td>\n      <td>282133</td>\n    </tr>\n    <tr>\n      <th>6L63VW0PibdM1HDSBoqnoM</th>\n      <td>['Seweryn Goszczyński']</td>\n      <td>Chapter 1.18 - Zamek kaniowski</td>\n      <td>0.749</td>\n      <td>104300</td>\n    </tr>\n    <tr>\n      <th>6M94FkXd15sOAOQYRnWPN8</th>\n      <td>['Francisco Canaro']</td>\n      <td>Bebamos Juntos - Instrumental (Remasterizado)</td>\n      <td>0.781</td>\n      <td>180760</td>\n    </tr>\n    <tr>\n      <th>6N6tiFZ9vLTSOIxkj8qKrd</th>\n      <td>['Frédéric Chopin', 'Vladimir Horowitz']</td>\n      <td>Polonaise-Fantaisie in A-Flat Major, Op. 61</td>\n      <td>0.210</td>\n      <td>687733</td>\n    </tr>\n  </tbody>\n</table>\n</div>"
     },
     "metadata": {},
     "execution_count": 13
    }
   ],
   "source": [
    "# Create a filtered dataframe from specific columns\n",
    "music_cols = [\"artists\", \"name\" ,\"danceability\", \"duration_ms\", \"id\"]\n",
    "music_transformed= data_df[music_cols].copy()\n",
    "\n",
    "# Rename the column headers\n",
    "music_transformed = music_transformed.rename(columns={\"name\": \"title\"})\n",
    "\n",
    "# Clean the data by dropping duplicates and setting the index\n",
    "music_transformed.drop_duplicates(\"id\", inplace=True)\n",
    "music_transformed.set_index(\"id\", inplace=True)\n",
    "\n",
    "music_transformed.head()"
   ]
  },
  {
   "cell_type": "code",
   "execution_count": 17,
   "metadata": {},
   "outputs": [
    {
     "output_type": "execute_result",
     "data": {
      "text/plain": "                             artist             title            streak\n0  Smokey Robinson and the Miracles       Shop Around   16 weeks; No. 2\n1                            Weezer       Buddy Holly  21 weeks; No. 18\n2                The Rolling Stones          Miss You   20 weeks; No. 1\n3                 Bruce Springsteen        The Rising  11 weeks; No. 52\n4                    Jackson Browne  Running on Empty  17 weeks; No. 11",
      "text/html": "<div>\n<style scoped>\n    .dataframe tbody tr th:only-of-type {\n        vertical-align: middle;\n    }\n\n    .dataframe tbody tr th {\n        vertical-align: top;\n    }\n\n    .dataframe thead th {\n        text-align: right;\n    }\n</style>\n<table border=\"1\" class=\"dataframe\">\n  <thead>\n    <tr style=\"text-align: right;\">\n      <th></th>\n      <th>artist</th>\n      <th>title</th>\n      <th>streak</th>\n    </tr>\n  </thead>\n  <tbody>\n    <tr>\n      <th>0</th>\n      <td>Smokey Robinson and the Miracles</td>\n      <td>Shop Around</td>\n      <td>16 weeks; No. 2</td>\n    </tr>\n    <tr>\n      <th>1</th>\n      <td>Weezer</td>\n      <td>Buddy Holly</td>\n      <td>21 weeks; No. 18</td>\n    </tr>\n    <tr>\n      <th>2</th>\n      <td>The Rolling Stones</td>\n      <td>Miss You</td>\n      <td>20 weeks; No. 1</td>\n    </tr>\n    <tr>\n      <th>3</th>\n      <td>Bruce Springsteen</td>\n      <td>The Rising</td>\n      <td>11 weeks; No. 52</td>\n    </tr>\n    <tr>\n      <th>4</th>\n      <td>Jackson Browne</td>\n      <td>Running on Empty</td>\n      <td>17 weeks; No. 11</td>\n    </tr>\n  </tbody>\n</table>\n</div>"
     },
     "metadata": {},
     "execution_count": 17
    }
   ],
   "source": [
    "stone_cols = [\"artist\", \"title\", \"streak\"]\n",
    "rolling_stone_transformed = rolling_stone_df[stone_cols].copy()\n",
    "\n",
    "\n",
    "\n",
    "rolling_stone_transformed.head()"
   ]
  },
  {
   "cell_type": "code",
   "execution_count": null,
   "metadata": {},
   "outputs": [],
   "source": []
  }
 ],
 "metadata": {
  "language_info": {
   "codemirror_mode": {
    "name": "ipython",
    "version": 3
   },
   "file_extension": ".py",
   "mimetype": "text/x-python",
   "name": "python",
   "nbconvert_exporter": "python",
   "pygments_lexer": "ipython3",
   "version": "3.7.6-final"
  },
  "orig_nbformat": 2,
  "kernelspec": {
   "name": "python3",
   "display_name": "Python 3"
  }
 },
 "nbformat": 4,
 "nbformat_minor": 2
}